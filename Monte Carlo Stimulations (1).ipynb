{
 "cells": [
  {
   "cell_type": "markdown",
   "id": "15c9d5db",
   "metadata": {},
   "source": [
    "# Stock Pricing Model "
   ]
  },
  {
   "cell_type": "markdown",
   "id": "2e1c626b",
   "metadata": {},
   "source": [
    "#Monte Carlo Simulations: helps us to predict the most likely outcome using computer simulations rather than physical testing.\n"
   ]
  },
  {
   "cell_type": "markdown",
   "id": "fcde5f47",
   "metadata": {},
   "source": [
    "### Stock Price Prediction"
   ]
  },
  {
   "cell_type": "code",
   "execution_count": null,
   "id": "a7a56501",
   "metadata": {},
   "outputs": [],
   "source": [
    "import os\n",
    "print(os.getcwd())\n",
    "os.chdir('C:/Users/tushi/Downloads')\n",
    "print(os.listdir())"
   ]
  },
  {
   "cell_type": "code",
   "execution_count": null,
   "id": "94b9e3f4",
   "metadata": {},
   "outputs": [],
   "source": [
    "pip install altair"
   ]
  },
  {
   "cell_type": "code",
   "execution_count": null,
   "id": "44aebc99",
   "metadata": {},
   "outputs": [],
   "source": [
    "##graph the closing price of the stock over 1000 days.\n",
    "\n",
    "\n",
    "import pandas as pd\n",
    "import altair as alt\n",
    "\n",
    "# Read the CSV file into a DataFrame\n",
    "df = pd.read_csv(\"AAPL_train.csv\")\n",
    "\n",
    "# Convert the 'Date' column to datetime format\n",
    "df['Date'] = pd.to_datetime(df['Date'], dayfirst=True)\n",
    "# Create the Altair chart\n",
    "chart = alt.Chart(df).mark_line().encode(\n",
    "    x='Date:T',\n",
    "    y='Close:Q'\n",
    ").properties(\n",
    "    width=800,\n",
    "    height=400\n",
    ").interactive()\n",
    "\n",
    "# Show the chart\n",
    "chart"
   ]
  },
  {
   "cell_type": "code",
   "execution_count": null,
   "id": "94fc4792",
   "metadata": {},
   "outputs": [],
   "source": [
    "###let’s look at how much the stock changes from day to day. To do this we will make a new list of numbers where we take the price from day N and subtract the price from day N-1.\n",
    "\n",
    "df['Daily Change'] = df['Close'].diff()\n",
    "\n",
    "# Create Altair chart for daily changes\n",
    "chart_daily_change = alt.Chart(df).mark_line().encode(\n",
    "    x='Date:T',\n",
    "    y='Daily Change:Q'\n",
    ").properties(\n",
    "    width=800,\n",
    "    height=400\n",
    ").interactive()\n",
    "\n",
    "# Show the chart\n",
    "chart_daily_change"
   ]
  },
  {
   "cell_type": "code",
   "execution_count": null,
   "id": "389d747d",
   "metadata": {},
   "outputs": [],
   "source": [
    "##Histogram of the daily changes in stock prices. It is also bell shaped.\n",
    "\n",
    "import altair as alt\n",
    "\n",
    "# Create a histogram of the daily changes\n",
    "histogram = alt.Chart(df).mark_bar().encode(\n",
    "    alt.X('Daily Change:Q', bin=alt.Bin(maxbins=30)),\n",
    "    alt.Y('count()')\n",
    ").properties(\n",
    "    width=600,\n",
    "    height=400\n",
    ")\n",
    "\n",
    "# Display the histogram\n",
    "histogram"
   ]
  },
  {
   "cell_type": "code",
   "execution_count": null,
   "id": "0a67c80e",
   "metadata": {},
   "outputs": [],
   "source": [
    "##Computing mean and standard deviation from the above data \n",
    "mean_change = df['Daily Change'].mean()\n",
    "std_deviation = df['Daily Change'].std()\n",
    "\n",
    "print(\"Mean Change:\", mean_change)\n",
    "print(\"Standard Deviation of Changes:\", std_deviation)"
   ]
  },
  {
   "cell_type": "code",
   "execution_count": null,
   "id": "ef6cac39",
   "metadata": {},
   "outputs": [],
   "source": []
  },
  {
   "cell_type": "code",
   "execution_count": null,
   "id": "4b4ed7c0",
   "metadata": {},
   "outputs": [],
   "source": [
    "##Making predictions for the  next 250 days using the random module \n",
    "\n",
    "import random\n",
    "\n",
    "# Closing price of the last day as the starting point\n",
    "starting_price = df['Close'].iloc[-1]\n",
    "\n",
    "# Predict next 250 days\n",
    "predictions = []\n",
    "current_price = starting_price\n",
    "for _ in range(250):\n",
    "    # Generate a random change using random.gauss() based on mean and standard deviation\n",
    "    random_change = random.gauss(mean_change, std_deviation)\n",
    "    # Update the current price by adding the random change\n",
    "    current_price += random_change\n",
    "    # Append the predicted price to the list of predictions\n",
    "    predictions.append(current_price)\n",
    "\n",
    "# Print the first few predictions\n",
    "print(\"First few predictions for the next 10 days:\")\n",
    "for i in range(10):\n",
    "    print(\"Day {}: {:.2f}\".format(i+1, predictions[i]))\n",
    "\n"
   ]
  },
  {
   "cell_type": "code",
   "execution_count": null,
   "id": "3f89b062",
   "metadata": {},
   "outputs": [],
   "source": [
    "import random\n",
    "import matplotlib.pyplot as plt\n",
    "\n",
    "# Closing price of the last day as the starting point\n",
    "starting_price = df['Close'].iloc[-1]\n",
    "\n",
    "# Number of simulations and days\n",
    "num_simulations = 50\n",
    "days = 250\n",
    "\n",
    "plt.figure(figsize=(12, 6))\n",
    "\n",
    "for _ in range(num_simulations):\n",
    "    predictions = []\n",
    "    current_price = starting_price\n",
    "    for _ in range(days):\n",
    "        random_change = random.gauss(mean_change, std_deviation)\n",
    "        current_price += random_change\n",
    "        predictions.append(current_price)\n",
    "    plt.plot(predictions, alpha=0.5)  # plot each path\n",
    "\n",
    "# Add labels and formatting\n",
    "plt.title(\"Monte Carlo Simulation of Stock Prices ({} Simulations)\".format(num_simulations))\n",
    "plt.xlabel(\"Days\")\n",
    "plt.ylabel(\"Price\")\n",
    "plt.grid(True)\n",
    "plt.show()\n"
   ]
  },
  {
   "cell_type": "code",
   "execution_count": null,
   "id": "a7b769e4",
   "metadata": {},
   "outputs": [],
   "source": []
  }
 ],
 "metadata": {
  "kernelspec": {
   "display_name": "Python 3 (ipykernel)",
   "language": "python",
   "name": "python3"
  },
  "language_info": {
   "codemirror_mode": {
    "name": "ipython",
    "version": 3
   },
   "file_extension": ".py",
   "mimetype": "text/x-python",
   "name": "python",
   "nbconvert_exporter": "python",
   "pygments_lexer": "ipython3",
   "version": "3.11.5"
  }
 },
 "nbformat": 4,
 "nbformat_minor": 5
}
